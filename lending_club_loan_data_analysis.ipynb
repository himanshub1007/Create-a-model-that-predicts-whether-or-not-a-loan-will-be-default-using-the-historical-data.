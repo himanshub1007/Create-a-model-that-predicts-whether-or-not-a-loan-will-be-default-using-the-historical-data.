{
 "cells": [
  {
   "cell_type": "code",
   "execution_count": 1,
   "metadata": {},
   "outputs": [],
   "source": [
    "import numpy as np\n",
    "import pandas as pd"
   ]
  },
  {
   "cell_type": "code",
   "execution_count": 2,
   "metadata": {},
   "outputs": [],
   "source": [
    "import seaborn as sns\n",
    "import matplotlib.pyplot as plt\n",
    "import tensorflow as tf\n",
    "%matplotlib inline"
   ]
  },
  {
   "cell_type": "code",
   "execution_count": 3,
   "metadata": {},
   "outputs": [
    {
     "name": "stdout",
     "output_type": "stream",
     "text": [
      "2.1.0\n"
     ]
    }
   ],
   "source": [
    "print(tf.__version__)"
   ]
  },
  {
   "cell_type": "code",
   "execution_count": 4,
   "metadata": {},
   "outputs": [],
   "source": [
    "loan_data = pd.read_csv('loan_data.csv')"
   ]
  },
  {
   "cell_type": "code",
   "execution_count": 5,
   "metadata": {},
   "outputs": [
    {
     "data": {
      "text/html": [
       "<div>\n",
       "<style scoped>\n",
       "    .dataframe tbody tr th:only-of-type {\n",
       "        vertical-align: middle;\n",
       "    }\n",
       "\n",
       "    .dataframe tbody tr th {\n",
       "        vertical-align: top;\n",
       "    }\n",
       "\n",
       "    .dataframe thead th {\n",
       "        text-align: right;\n",
       "    }\n",
       "</style>\n",
       "<table border=\"1\" class=\"dataframe\">\n",
       "  <thead>\n",
       "    <tr style=\"text-align: right;\">\n",
       "      <th></th>\n",
       "      <th>credit.policy</th>\n",
       "      <th>purpose</th>\n",
       "      <th>int.rate</th>\n",
       "      <th>installment</th>\n",
       "      <th>log.annual.inc</th>\n",
       "      <th>dti</th>\n",
       "      <th>fico</th>\n",
       "      <th>days.with.cr.line</th>\n",
       "      <th>revol.bal</th>\n",
       "      <th>revol.util</th>\n",
       "      <th>inq.last.6mths</th>\n",
       "      <th>delinq.2yrs</th>\n",
       "      <th>pub.rec</th>\n",
       "      <th>not.fully.paid</th>\n",
       "    </tr>\n",
       "  </thead>\n",
       "  <tbody>\n",
       "    <tr>\n",
       "      <th>0</th>\n",
       "      <td>1</td>\n",
       "      <td>debt_consolidation</td>\n",
       "      <td>0.1189</td>\n",
       "      <td>829.10</td>\n",
       "      <td>11.350407</td>\n",
       "      <td>19.48</td>\n",
       "      <td>737</td>\n",
       "      <td>5639.958333</td>\n",
       "      <td>28854</td>\n",
       "      <td>52.1</td>\n",
       "      <td>0</td>\n",
       "      <td>0</td>\n",
       "      <td>0</td>\n",
       "      <td>0</td>\n",
       "    </tr>\n",
       "    <tr>\n",
       "      <th>1</th>\n",
       "      <td>1</td>\n",
       "      <td>credit_card</td>\n",
       "      <td>0.1071</td>\n",
       "      <td>228.22</td>\n",
       "      <td>11.082143</td>\n",
       "      <td>14.29</td>\n",
       "      <td>707</td>\n",
       "      <td>2760.000000</td>\n",
       "      <td>33623</td>\n",
       "      <td>76.7</td>\n",
       "      <td>0</td>\n",
       "      <td>0</td>\n",
       "      <td>0</td>\n",
       "      <td>0</td>\n",
       "    </tr>\n",
       "    <tr>\n",
       "      <th>2</th>\n",
       "      <td>1</td>\n",
       "      <td>debt_consolidation</td>\n",
       "      <td>0.1357</td>\n",
       "      <td>366.86</td>\n",
       "      <td>10.373491</td>\n",
       "      <td>11.63</td>\n",
       "      <td>682</td>\n",
       "      <td>4710.000000</td>\n",
       "      <td>3511</td>\n",
       "      <td>25.6</td>\n",
       "      <td>1</td>\n",
       "      <td>0</td>\n",
       "      <td>0</td>\n",
       "      <td>0</td>\n",
       "    </tr>\n",
       "    <tr>\n",
       "      <th>3</th>\n",
       "      <td>1</td>\n",
       "      <td>debt_consolidation</td>\n",
       "      <td>0.1008</td>\n",
       "      <td>162.34</td>\n",
       "      <td>11.350407</td>\n",
       "      <td>8.10</td>\n",
       "      <td>712</td>\n",
       "      <td>2699.958333</td>\n",
       "      <td>33667</td>\n",
       "      <td>73.2</td>\n",
       "      <td>1</td>\n",
       "      <td>0</td>\n",
       "      <td>0</td>\n",
       "      <td>0</td>\n",
       "    </tr>\n",
       "    <tr>\n",
       "      <th>4</th>\n",
       "      <td>1</td>\n",
       "      <td>credit_card</td>\n",
       "      <td>0.1426</td>\n",
       "      <td>102.92</td>\n",
       "      <td>11.299732</td>\n",
       "      <td>14.97</td>\n",
       "      <td>667</td>\n",
       "      <td>4066.000000</td>\n",
       "      <td>4740</td>\n",
       "      <td>39.5</td>\n",
       "      <td>0</td>\n",
       "      <td>1</td>\n",
       "      <td>0</td>\n",
       "      <td>0</td>\n",
       "    </tr>\n",
       "  </tbody>\n",
       "</table>\n",
       "</div>"
      ],
      "text/plain": [
       "   credit.policy             purpose  int.rate  installment  log.annual.inc  \\\n",
       "0              1  debt_consolidation    0.1189       829.10       11.350407   \n",
       "1              1         credit_card    0.1071       228.22       11.082143   \n",
       "2              1  debt_consolidation    0.1357       366.86       10.373491   \n",
       "3              1  debt_consolidation    0.1008       162.34       11.350407   \n",
       "4              1         credit_card    0.1426       102.92       11.299732   \n",
       "\n",
       "     dti  fico  days.with.cr.line  revol.bal  revol.util  inq.last.6mths  \\\n",
       "0  19.48   737        5639.958333      28854        52.1               0   \n",
       "1  14.29   707        2760.000000      33623        76.7               0   \n",
       "2  11.63   682        4710.000000       3511        25.6               1   \n",
       "3   8.10   712        2699.958333      33667        73.2               1   \n",
       "4  14.97   667        4066.000000       4740        39.5               0   \n",
       "\n",
       "   delinq.2yrs  pub.rec  not.fully.paid  \n",
       "0            0        0               0  \n",
       "1            0        0               0  \n",
       "2            0        0               0  \n",
       "3            0        0               0  \n",
       "4            1        0               0  "
      ]
     },
     "execution_count": 5,
     "metadata": {},
     "output_type": "execute_result"
    }
   ],
   "source": [
    "loan_data.head()"
   ]
  },
  {
   "cell_type": "code",
   "execution_count": 6,
   "metadata": {},
   "outputs": [
    {
     "name": "stdout",
     "output_type": "stream",
     "text": [
      "<class 'pandas.core.frame.DataFrame'>\n",
      "RangeIndex: 9578 entries, 0 to 9577\n",
      "Data columns (total 14 columns):\n",
      " #   Column             Non-Null Count  Dtype  \n",
      "---  ------             --------------  -----  \n",
      " 0   credit.policy      9578 non-null   int64  \n",
      " 1   purpose            9578 non-null   object \n",
      " 2   int.rate           9578 non-null   float64\n",
      " 3   installment        9578 non-null   float64\n",
      " 4   log.annual.inc     9578 non-null   float64\n",
      " 5   dti                9578 non-null   float64\n",
      " 6   fico               9578 non-null   int64  \n",
      " 7   days.with.cr.line  9578 non-null   float64\n",
      " 8   revol.bal          9578 non-null   int64  \n",
      " 9   revol.util         9578 non-null   float64\n",
      " 10  inq.last.6mths     9578 non-null   int64  \n",
      " 11  delinq.2yrs        9578 non-null   int64  \n",
      " 12  pub.rec            9578 non-null   int64  \n",
      " 13  not.fully.paid     9578 non-null   int64  \n",
      "dtypes: float64(6), int64(7), object(1)\n",
      "memory usage: 1.0+ MB\n"
     ]
    }
   ],
   "source": [
    "loan_data.info()"
   ]
  },
  {
   "cell_type": "code",
   "execution_count": 7,
   "metadata": {},
   "outputs": [
    {
     "data": {
      "text/plain": [
       "debt_consolidation    3957\n",
       "all_other             2331\n",
       "credit_card           1262\n",
       "home_improvement       629\n",
       "small_business         619\n",
       "major_purchase         437\n",
       "educational            343\n",
       "Name: purpose, dtype: int64"
      ]
     },
     "execution_count": 7,
     "metadata": {},
     "output_type": "execute_result"
    }
   ],
   "source": [
    "loan_data['purpose'].value_counts()"
   ]
  },
  {
   "cell_type": "code",
   "execution_count": 8,
   "metadata": {},
   "outputs": [],
   "source": [
    "# Feature Transformation: Transform categorical values into numerical values (discrete)\n",
    "from sklearn import preprocessing\n",
    "le = preprocessing.LabelEncoder()\n",
    "le.fit(loan_data['purpose'])\n",
    "le.transform(loan_data['purpose'])\n",
    "le.classes_\n",
    "\n",
    "loan_data['purpose'] = le.fit_transform(loan_data['purpose'])\n"
   ]
  },
  {
   "cell_type": "code",
   "execution_count": 9,
   "metadata": {},
   "outputs": [
    {
     "data": {
      "text/html": [
       "<div>\n",
       "<style scoped>\n",
       "    .dataframe tbody tr th:only-of-type {\n",
       "        vertical-align: middle;\n",
       "    }\n",
       "\n",
       "    .dataframe tbody tr th {\n",
       "        vertical-align: top;\n",
       "    }\n",
       "\n",
       "    .dataframe thead th {\n",
       "        text-align: right;\n",
       "    }\n",
       "</style>\n",
       "<table border=\"1\" class=\"dataframe\">\n",
       "  <thead>\n",
       "    <tr style=\"text-align: right;\">\n",
       "      <th></th>\n",
       "      <th>credit.policy</th>\n",
       "      <th>purpose</th>\n",
       "      <th>int.rate</th>\n",
       "      <th>installment</th>\n",
       "      <th>log.annual.inc</th>\n",
       "      <th>dti</th>\n",
       "      <th>fico</th>\n",
       "      <th>days.with.cr.line</th>\n",
       "      <th>revol.bal</th>\n",
       "      <th>revol.util</th>\n",
       "      <th>inq.last.6mths</th>\n",
       "      <th>delinq.2yrs</th>\n",
       "      <th>pub.rec</th>\n",
       "      <th>not.fully.paid</th>\n",
       "    </tr>\n",
       "  </thead>\n",
       "  <tbody>\n",
       "    <tr>\n",
       "      <th>0</th>\n",
       "      <td>1</td>\n",
       "      <td>2</td>\n",
       "      <td>0.1189</td>\n",
       "      <td>829.10</td>\n",
       "      <td>11.350407</td>\n",
       "      <td>19.48</td>\n",
       "      <td>737</td>\n",
       "      <td>5639.958333</td>\n",
       "      <td>28854</td>\n",
       "      <td>52.1</td>\n",
       "      <td>0</td>\n",
       "      <td>0</td>\n",
       "      <td>0</td>\n",
       "      <td>0</td>\n",
       "    </tr>\n",
       "    <tr>\n",
       "      <th>1</th>\n",
       "      <td>1</td>\n",
       "      <td>1</td>\n",
       "      <td>0.1071</td>\n",
       "      <td>228.22</td>\n",
       "      <td>11.082143</td>\n",
       "      <td>14.29</td>\n",
       "      <td>707</td>\n",
       "      <td>2760.000000</td>\n",
       "      <td>33623</td>\n",
       "      <td>76.7</td>\n",
       "      <td>0</td>\n",
       "      <td>0</td>\n",
       "      <td>0</td>\n",
       "      <td>0</td>\n",
       "    </tr>\n",
       "    <tr>\n",
       "      <th>2</th>\n",
       "      <td>1</td>\n",
       "      <td>2</td>\n",
       "      <td>0.1357</td>\n",
       "      <td>366.86</td>\n",
       "      <td>10.373491</td>\n",
       "      <td>11.63</td>\n",
       "      <td>682</td>\n",
       "      <td>4710.000000</td>\n",
       "      <td>3511</td>\n",
       "      <td>25.6</td>\n",
       "      <td>1</td>\n",
       "      <td>0</td>\n",
       "      <td>0</td>\n",
       "      <td>0</td>\n",
       "    </tr>\n",
       "    <tr>\n",
       "      <th>3</th>\n",
       "      <td>1</td>\n",
       "      <td>2</td>\n",
       "      <td>0.1008</td>\n",
       "      <td>162.34</td>\n",
       "      <td>11.350407</td>\n",
       "      <td>8.10</td>\n",
       "      <td>712</td>\n",
       "      <td>2699.958333</td>\n",
       "      <td>33667</td>\n",
       "      <td>73.2</td>\n",
       "      <td>1</td>\n",
       "      <td>0</td>\n",
       "      <td>0</td>\n",
       "      <td>0</td>\n",
       "    </tr>\n",
       "    <tr>\n",
       "      <th>4</th>\n",
       "      <td>1</td>\n",
       "      <td>1</td>\n",
       "      <td>0.1426</td>\n",
       "      <td>102.92</td>\n",
       "      <td>11.299732</td>\n",
       "      <td>14.97</td>\n",
       "      <td>667</td>\n",
       "      <td>4066.000000</td>\n",
       "      <td>4740</td>\n",
       "      <td>39.5</td>\n",
       "      <td>0</td>\n",
       "      <td>1</td>\n",
       "      <td>0</td>\n",
       "      <td>0</td>\n",
       "    </tr>\n",
       "  </tbody>\n",
       "</table>\n",
       "</div>"
      ],
      "text/plain": [
       "   credit.policy  purpose  int.rate  installment  log.annual.inc    dti  fico  \\\n",
       "0              1        2    0.1189       829.10       11.350407  19.48   737   \n",
       "1              1        1    0.1071       228.22       11.082143  14.29   707   \n",
       "2              1        2    0.1357       366.86       10.373491  11.63   682   \n",
       "3              1        2    0.1008       162.34       11.350407   8.10   712   \n",
       "4              1        1    0.1426       102.92       11.299732  14.97   667   \n",
       "\n",
       "   days.with.cr.line  revol.bal  revol.util  inq.last.6mths  delinq.2yrs  \\\n",
       "0        5639.958333      28854        52.1               0            0   \n",
       "1        2760.000000      33623        76.7               0            0   \n",
       "2        4710.000000       3511        25.6               1            0   \n",
       "3        2699.958333      33667        73.2               1            0   \n",
       "4        4066.000000       4740        39.5               0            1   \n",
       "\n",
       "   pub.rec  not.fully.paid  \n",
       "0        0               0  \n",
       "1        0               0  \n",
       "2        0               0  \n",
       "3        0               0  \n",
       "4        0               0  "
      ]
     },
     "execution_count": 9,
     "metadata": {},
     "output_type": "execute_result"
    }
   ],
   "source": [
    "loan_data.head()"
   ]
  },
  {
   "cell_type": "code",
   "execution_count": 10,
   "metadata": {},
   "outputs": [
    {
     "data": {
      "text/plain": [
       "(9578, 14)"
      ]
     },
     "execution_count": 10,
     "metadata": {},
     "output_type": "execute_result"
    }
   ],
   "source": [
    "loan_data.shape"
   ]
  },
  {
   "cell_type": "code",
   "execution_count": 11,
   "metadata": {},
   "outputs": [
    {
     "data": {
      "text/plain": [
       "<matplotlib.axes._subplots.AxesSubplot at 0x7f4951e67210>"
      ]
     },
     "execution_count": 11,
     "metadata": {},
     "output_type": "execute_result"
    },
    {
     "data": {
      "image/png": "[encoded data removed]",
      "text/plain": [
       "<Figure size 432x288 with 1 Axes>"
      ]
     },
     "metadata": {
      "needs_background": "light"
     },
     "output_type": "display_data"
    }
   ],
   "source": [
    "# Exploratory data analysis of different factors of the dataset.\n",
    "# module in Python built on top of matplotlib designed for statistical plotting.\n",
    "sns.violinplot(y='log.annual.inc',hue='not.fully.paid',data=loan_data)"
   ]
  },
  {
   "cell_type": "code",
   "execution_count": 12,
   "metadata": {},
   "outputs": [
    {
     "data": {
      "text/plain": [
       "<matplotlib.axes._subplots.AxesSubplot at 0x7f494edf4650>"
      ]
     },
     "execution_count": 12,
     "metadata": {},
     "output_type": "execute_result"
    },
    {
     "data": {
      "image/png": "[encoded data removed]",
      "text/plain": [
       "<Figure size 432x288 with 1 Axes>"
      ]
     },
     "metadata": {
      "needs_background": "light"
     },
     "output_type": "display_data"
    }
   ],
   "source": [
    "sns.violinplot(y='dti',hue='not.fully.paid',data=loan_data)"
   ]
  },
  {
   "cell_type": "code",
   "execution_count": 13,
   "metadata": {},
   "outputs": [
    {
     "data": {
      "text/plain": [
       "<matplotlib.axes._subplots.AxesSubplot at 0x7f494ed7c410>"
      ]
     },
     "execution_count": 13,
     "metadata": {},
     "output_type": "execute_result"
    },
    {
     "data": {
      "image/png": "[encoded data removed]",
      "text/plain": [
       "<Figure size 720x576 with 1 Axes>"
      ]
     },
     "metadata": {},
     "output_type": "display_data"
    }
   ],
   "source": [
    "sns.set(rc={'figure.figsize':(10,8)})\n",
    "sns.countplot(data=loan_data,x='purpose',hue='not.fully.paid')"
   ]
  },
  {
   "cell_type": "code",
   "execution_count": 14,
   "metadata": {},
   "outputs": [
    {
     "data": {
      "text/plain": [
       "<matplotlib.axes._subplots.AxesSubplot at 0x7f494eceab50>"
      ]
     },
     "execution_count": 14,
     "metadata": {},
     "output_type": "execute_result"
    },
    {
     "data": {
      "image/png": "[encoded data removed]",
      "text/plain": [
       "<Figure size 720x576 with 1 Axes>"
      ]
     },
     "metadata": {},
     "output_type": "display_data"
    }
   ],
   "source": [
    "sns.violinplot(y='inq.last.6mths',hue='not.fully.paid',data=loan_data)"
   ]
  },
  {
   "cell_type": "code",
   "execution_count": 15,
   "metadata": {},
   "outputs": [
    {
     "data": {
      "text/plain": [
       "<matplotlib.axes._subplots.AxesSubplot at 0x7f494ec4da90>"
      ]
     },
     "execution_count": 15,
     "metadata": {},
     "output_type": "execute_result"
    },
    {
     "data": {
      "image/png": "[encoded data removed]",
      "text/plain": [
       "<Figure size 720x576 with 1 Axes>"
      ]
     },
     "metadata": {},
     "output_type": "display_data"
    }
   ],
   "source": [
    "sns.violinplot(y=loan_data['fico'],hue=loan_data['not.fully.paid'])"
   ]
  },
  {
   "cell_type": "code",
   "execution_count": 16,
   "metadata": {},
   "outputs": [
    {
     "data": {
      "text/plain": [
       "<matplotlib.axes._subplots.AxesSubplot at 0x7f494ec32210>"
      ]
     },
     "execution_count": 16,
     "metadata": {},
     "output_type": "execute_result"
    },
    {
     "data": {
      "image/png": "[encoded data removed]",
      "text/plain": [
       "<Figure size 720x576 with 1 Axes>"
      ]
     },
     "metadata": {},
     "output_type": "display_data"
    }
   ],
   "source": [
    "sns.countplot(x='pub.rec',hue='not.fully.paid',data=loan_data)"
   ]
  },
  {
   "cell_type": "code",
   "execution_count": 17,
   "metadata": {},
   "outputs": [
    {
     "data": {
      "text/plain": [
       "<matplotlib.axes._subplots.AxesSubplot at 0x7f494ebe3f50>"
      ]
     },
     "execution_count": 17,
     "metadata": {},
     "output_type": "execute_result"
    },
    {
     "data": {
      "image/png": "[encoded data removed]",
      "text/plain": [
       "<Figure size 720x576 with 1 Axes>"
      ]
     },
     "metadata": {},
     "output_type": "display_data"
    }
   ],
   "source": [
    "sns.violinplot(y=loan_data['pub.rec'],hue=loan_data['not.fully.paid'])"
   ]
  },
  {
   "cell_type": "code",
   "execution_count": 21,
   "metadata": {},
   "outputs": [
    {
     "data": {
      "text/plain": [
       "(9578, 18)"
      ]
     },
     "execution_count": 21,
     "metadata": {},
     "output_type": "execute_result"
    }
   ],
   "source": [
    "input_matrix = np.loadtxt(\"input.csv\", delimiter=\",\", ndmin=2).astype(np.float32)\n",
    "input_matrix.shape"
   ]
  },
  {
   "cell_type": "code",
   "execution_count": 22,
   "metadata": {},
   "outputs": [
    {
     "data": {
      "text/plain": [
       "numpy.float32"
      ]
     },
     "execution_count": 22,
     "metadata": {},
     "output_type": "execute_result"
    }
   ],
   "source": [
    "type(input_matrix[0][0])"
   ]
  },
  {
   "cell_type": "code",
   "execution_count": 26,
   "metadata": {},
   "outputs": [
    {
     "data": {
      "text/plain": [
       "(9578, 2)"
      ]
     },
     "execution_count": 26,
     "metadata": {},
     "output_type": "execute_result"
    }
   ],
   "source": [
    "labels = np.loadtxt(\"output.csv\", delimiter=\",\", ndmin=2).astype(np.float32)\n",
    "labels.shape"
   ]
  },
  {
   "cell_type": "code",
   "execution_count": 27,
   "metadata": {},
   "outputs": [
    {
     "data": {
      "text/plain": [
       "numpy.float32"
      ]
     },
     "execution_count": 27,
     "metadata": {},
     "output_type": "execute_result"
    }
   ],
   "source": [
    "type(labels[0][0])"
   ]
  },
  {
   "cell_type": "code",
   "execution_count": 28,
   "metadata": {},
   "outputs": [],
   "source": [
    "from math import floor,ceil"
   ]
  },
  {
   "cell_type": "markdown",
   "metadata": {},
   "source": [
    "## Splitting data into training and testing set"
   ]
  },
  {
   "cell_type": "code",
   "execution_count": 31,
   "metadata": {},
   "outputs": [],
   "source": [
    "train_size = 0.75\n",
    "#we have used 75% of total data as training set\n",
    "train_cnt = floor(input_matrix.shape[0] * train_size)\n",
    "x_train = input_matrix[0:train_cnt]\n",
    "y_train = labels[0:train_cnt]\n",
    "x_test = input_matrix[train_cnt:]\n",
    "y_test = labels[train_cnt:]"
   ]
  },
  {
   "cell_type": "code",
   "execution_count": 32,
   "metadata": {},
   "outputs": [
    {
     "data": {
      "text/plain": [
       "(7183, 18)"
      ]
     },
     "execution_count": 32,
     "metadata": {},
     "output_type": "execute_result"
    }
   ],
   "source": [
    "x_train.shape"
   ]
  },
  {
   "cell_type": "code",
   "execution_count": 33,
   "metadata": {},
   "outputs": [
    {
     "data": {
      "text/plain": [
       "(7183, 2)"
      ]
     },
     "execution_count": 33,
     "metadata": {},
     "output_type": "execute_result"
    }
   ],
   "source": [
    "y_train.shape"
   ]
  },
  {
   "cell_type": "code",
   "execution_count": 34,
   "metadata": {},
   "outputs": [
    {
     "data": {
      "text/plain": [
       "(2395, 18)"
      ]
     },
     "execution_count": 34,
     "metadata": {},
     "output_type": "execute_result"
    }
   ],
   "source": [
    "x_test.shape"
   ]
  },
  {
   "cell_type": "code",
   "execution_count": 35,
   "metadata": {},
   "outputs": [
    {
     "data": {
      "text/plain": [
       "array([[0., 1.],\n",
       "       [0., 1.],\n",
       "       [0., 1.],\n",
       "       ...,\n",
       "       [0., 1.],\n",
       "       [0., 1.],\n",
       "       [0., 1.]], dtype=float32)"
      ]
     },
     "execution_count": 35,
     "metadata": {},
     "output_type": "execute_result"
    }
   ],
   "source": [
    "y_test"
   ]
  },
  {
   "cell_type": "code",
   "execution_count": 29,
   "metadata": {},
   "outputs": [
    {
     "data": {
      "text/plain": [
       "(2395, 2)"
      ]
     },
     "execution_count": 29,
     "metadata": {},
     "output_type": "execute_result"
    }
   ],
   "source": [
    "y_test.shape"
   ]
  },
  {
   "cell_type": "markdown",
   "metadata": {},
   "source": [
    "# Creating Model"
   ]
  },
  {
   "cell_type": "code",
   "execution_count": 36,
   "metadata": {},
   "outputs": [
    {
     "name": "stderr",
     "output_type": "stream",
     "text": [
      "Using TensorFlow backend.\n"
     ]
    },
    {
     "name": "stdout",
     "output_type": "stream",
     "text": [
      "Epoch 1/200\n",
      "7183/7183 [==============================] - 1s 206us/step - loss: 81.5571 - accuracy: 0.8225\n",
      "Epoch 2/200\n",
      "7183/7183 [==============================] - 1s 95us/step - loss: 3.1694 - accuracy: 0.8922\n",
      "Epoch 3/200\n",
      "7183/7183 [==============================] - 1s 92us/step - loss: 3.7778 - accuracy: 0.8968\n",
      "Epoch 4/200\n",
      "7183/7183 [==============================] - 1s 91us/step - loss: 3.0051 - accuracy: 0.8980\n",
      "Epoch 5/200\n",
      "7183/7183 [==============================] - 1s 88us/step - loss: 3.5204 - accuracy: 0.8967\n",
      "Epoch 6/200\n",
      "7183/7183 [==============================] - 1s 87us/step - loss: 2.7664 - accuracy: 0.8999\n",
      "Epoch 7/200\n",
      "7183/7183 [==============================] - 1s 88us/step - loss: 2.5793 - accuracy: 0.9001\n",
      "Epoch 8/200\n",
      "7183/7183 [==============================] - 1s 87us/step - loss: 2.5970 - accuracy: 0.9030\n",
      "Epoch 9/200\n",
      "7183/7183 [==============================] - 1s 89us/step - loss: 2.3303 - accuracy: 0.9039\n",
      "Epoch 10/200\n",
      "7183/7183 [==============================] - 1s 87us/step - loss: 2.4882 - accuracy: 0.9044\n",
      "Epoch 11/200\n",
      "7183/7183 [==============================] - 1s 88us/step - loss: 2.6522 - accuracy: 0.9064\n",
      "Epoch 12/200\n",
      "7183/7183 [==============================] - 1s 87us/step - loss: 2.2047 - accuracy: 0.9057\n",
      "Epoch 13/200\n",
      "7183/7183 [==============================] - 1s 88us/step - loss: 2.0405 - accuracy: 0.9099\n",
      "Epoch 14/200\n",
      "7183/7183 [==============================] - 1s 91us/step - loss: 2.2564 - accuracy: 0.9052\n",
      "Epoch 15/200\n",
      "7183/7183 [==============================] - 1s 88us/step - loss: 1.9305 - accuracy: 0.9080\n",
      "Epoch 16/200\n",
      "7183/7183 [==============================] - 1s 87us/step - loss: 1.8035 - accuracy: 0.9088\n",
      "Epoch 17/200\n",
      "7183/7183 [==============================] - 1s 88us/step - loss: 1.7949 - accuracy: 0.9096\n",
      "Epoch 18/200\n",
      "7183/7183 [==============================] - 1s 88us/step - loss: 1.5572 - accuracy: 0.9109\n",
      "Epoch 19/200\n",
      "7183/7183 [==============================] - 1s 88us/step - loss: 1.6853 - accuracy: 0.9108\n",
      "Epoch 20/200\n",
      "7183/7183 [==============================] - 1s 87us/step - loss: 1.4295 - accuracy: 0.9136\n",
      "Epoch 21/200\n",
      "7183/7183 [==============================] - 1s 87us/step - loss: 1.1344 - accuracy: 0.9140\n",
      "Epoch 22/200\n",
      "7183/7183 [==============================] - 1s 87us/step - loss: 1.3909 - accuracy: 0.9131\n",
      "Epoch 23/200\n",
      "7183/7183 [==============================] - 1s 87us/step - loss: 1.2326 - accuracy: 0.9177\n",
      "Epoch 24/200\n",
      "7183/7183 [==============================] - 1s 87us/step - loss: 0.9754 - accuracy: 0.9170\n",
      "Epoch 25/200\n",
      "7183/7183 [==============================] - 1s 87us/step - loss: 1.0482 - accuracy: 0.9202\n",
      "Epoch 26/200\n",
      "7183/7183 [==============================] - 1s 88us/step - loss: 1.0275 - accuracy: 0.9199\n",
      "Epoch 27/200\n",
      "7183/7183 [==============================] - 1s 87us/step - loss: 0.7570 - accuracy: 0.9202\n",
      "Epoch 28/200\n",
      "7183/7183 [==============================] - 1s 87us/step - loss: 0.6577 - accuracy: 0.9254\n",
      "Epoch 29/200\n",
      "7183/7183 [==============================] - 1s 88us/step - loss: 0.5982 - accuracy: 0.9249\n",
      "Epoch 30/200\n",
      "7183/7183 [==============================] - 1s 88us/step - loss: 0.5476 - accuracy: 0.9257\n",
      "Epoch 31/200\n",
      "7183/7183 [==============================] - 1s 88us/step - loss: 0.3471 - accuracy: 0.9292\n",
      "Epoch 32/200\n",
      "7183/7183 [==============================] - 1s 89us/step - loss: 0.3274 - accuracy: 0.9316\n",
      "Epoch 33/200\n",
      "7183/7183 [==============================] - 1s 88us/step - loss: 0.2759 - accuracy: 0.9319\n",
      "Epoch 34/200\n",
      "7183/7183 [==============================] - 1s 87us/step - loss: 0.2442 - accuracy: 0.9342\n",
      "Epoch 35/200\n",
      "7183/7183 [==============================] - 1s 88us/step - loss: 0.2415 - accuracy: 0.9346\n",
      "Epoch 36/200\n",
      "7183/7183 [==============================] - 1s 89us/step - loss: 0.2413 - accuracy: 0.9347\n",
      "Epoch 37/200\n",
      "7183/7183 [==============================] - 1s 89us/step - loss: 0.2412 - accuracy: 0.9347\n",
      "Epoch 38/200\n",
      "7183/7183 [==============================] - 1s 87us/step - loss: 0.2414 - accuracy: 0.9347\n",
      "Epoch 39/200\n",
      "7183/7183 [==============================] - 1s 88us/step - loss: 0.2414 - accuracy: 0.9347\n",
      "Epoch 40/200\n",
      "7183/7183 [==============================] - 1s 88us/step - loss: 0.2414 - accuracy: 0.9347\n",
      "Epoch 41/200\n",
      "7183/7183 [==============================] - 1s 87us/step - loss: 0.2415 - accuracy: 0.9347\n",
      "Epoch 42/200\n",
      "7183/7183 [==============================] - 1s 87us/step - loss: 0.2415 - accuracy: 0.9347\n",
      "Epoch 43/200\n",
      "7183/7183 [==============================] - 1s 87us/step - loss: 0.2415 - accuracy: 0.9347\n",
      "Epoch 44/200\n",
      "7183/7183 [==============================] - 1s 88us/step - loss: 0.2413 - accuracy: 0.9347\n",
      "Epoch 45/200\n",
      "7183/7183 [==============================] - 1s 87us/step - loss: 0.2415 - accuracy: 0.9347\n",
      "Epoch 46/200\n",
      "7183/7183 [==============================] - 1s 88us/step - loss: 0.2413 - accuracy: 0.9347\n",
      "Epoch 47/200\n",
      "7183/7183 [==============================] - 1s 88us/step - loss: 0.2415 - accuracy: 0.9347\n",
      "Epoch 48/200\n",
      "7183/7183 [==============================] - 1s 88us/step - loss: 0.2415 - accuracy: 0.9347\n",
      "Epoch 49/200\n",
      "7183/7183 [==============================] - 1s 88us/step - loss: 0.2415 - accuracy: 0.9347\n",
      "Epoch 50/200\n",
      "7183/7183 [==============================] - 1s 88us/step - loss: 0.2415 - accuracy: 0.9347\n",
      "Epoch 51/200\n",
      "7183/7183 [==============================] - 1s 88us/step - loss: 0.2415 - accuracy: 0.9347\n",
      "Epoch 52/200\n",
      "7183/7183 [==============================] - 1s 88us/step - loss: 0.2414 - accuracy: 0.9347\n",
      "Epoch 53/200\n",
      "7183/7183 [==============================] - 1s 88us/step - loss: 0.2415 - accuracy: 0.9347\n",
      "Epoch 54/200\n",
      "7183/7183 [==============================] - 1s 89us/step - loss: 0.2415 - accuracy: 0.9347\n",
      "Epoch 55/200\n",
      "7183/7183 [==============================] - 1s 88us/step - loss: 0.2415 - accuracy: 0.9347\n",
      "Epoch 56/200\n",
      "7183/7183 [==============================] - 1s 88us/step - loss: 0.2415 - accuracy: 0.9347\n",
      "Epoch 57/200\n",
      "7183/7183 [==============================] - 1s 88us/step - loss: 0.2414 - accuracy: 0.9347\n",
      "Epoch 58/200\n",
      "7183/7183 [==============================] - 1s 88us/step - loss: 0.2415 - accuracy: 0.9347\n",
      "Epoch 59/200\n",
      "7183/7183 [==============================] - 1s 89us/step - loss: 0.2415 - accuracy: 0.9347\n",
      "Epoch 60/200\n",
      "7183/7183 [==============================] - 1s 88us/step - loss: 0.2416 - accuracy: 0.9347\n",
      "Epoch 61/200\n",
      "7183/7183 [==============================] - 1s 89us/step - loss: 0.2414 - accuracy: 0.9347\n",
      "Epoch 62/200\n",
      "7183/7183 [==============================] - 1s 89us/step - loss: 0.2415 - accuracy: 0.9347\n",
      "Epoch 63/200\n",
      "7183/7183 [==============================] - 1s 89us/step - loss: 0.2415 - accuracy: 0.9347\n",
      "Epoch 64/200\n",
      "7183/7183 [==============================] - 1s 88us/step - loss: 0.2416 - accuracy: 0.9347\n",
      "Epoch 65/200\n",
      "7183/7183 [==============================] - 1s 89us/step - loss: 0.2414 - accuracy: 0.9347\n",
      "Epoch 66/200\n",
      "7183/7183 [==============================] - 1s 88us/step - loss: 0.2415 - accuracy: 0.9347\n",
      "Epoch 67/200\n",
      "7183/7183 [==============================] - 1s 89us/step - loss: 0.2415 - accuracy: 0.9347\n",
      "Epoch 68/200\n",
      "7183/7183 [==============================] - 1s 89us/step - loss: 0.2415 - accuracy: 0.9347\n",
      "Epoch 69/200\n",
      "7183/7183 [==============================] - 1s 88us/step - loss: 0.2415 - accuracy: 0.9347\n",
      "Epoch 70/200\n",
      "7183/7183 [==============================] - 1s 88us/step - loss: 0.2415 - accuracy: 0.9347\n",
      "Epoch 71/200\n",
      "7183/7183 [==============================] - 1s 88us/step - loss: 0.2415 - accuracy: 0.9347\n",
      "Epoch 72/200\n",
      "7183/7183 [==============================] - 1s 90us/step - loss: 0.2415 - accuracy: 0.9347\n",
      "Epoch 73/200\n",
      "7183/7183 [==============================] - 1s 89us/step - loss: 0.2415 - accuracy: 0.9347\n",
      "Epoch 74/200\n",
      "7183/7183 [==============================] - 1s 89us/step - loss: 0.2415 - accuracy: 0.9347\n",
      "Epoch 75/200\n",
      "7183/7183 [==============================] - 1s 87us/step - loss: 0.2415 - accuracy: 0.9347\n",
      "Epoch 76/200\n",
      "7183/7183 [==============================] - 1s 87us/step - loss: 0.2413 - accuracy: 0.9347\n",
      "Epoch 77/200\n",
      "7183/7183 [==============================] - 1s 87us/step - loss: 0.2415 - accuracy: 0.9347\n",
      "Epoch 78/200\n",
      "7183/7183 [==============================] - 1s 87us/step - loss: 0.2415 - accuracy: 0.9347\n",
      "Epoch 79/200\n",
      "7183/7183 [==============================] - 1s 87us/step - loss: 0.2415 - accuracy: 0.9347\n",
      "Epoch 80/200\n",
      "7183/7183 [==============================] - 1s 87us/step - loss: 0.2414 - accuracy: 0.9347\n",
      "Epoch 81/200\n",
      "7183/7183 [==============================] - 1s 85us/step - loss: 0.2415 - accuracy: 0.9347\n",
      "Epoch 82/200\n",
      "7183/7183 [==============================] - 1s 85us/step - loss: 0.2415 - accuracy: 0.9347\n",
      "Epoch 83/200\n",
      "7183/7183 [==============================] - 1s 87us/step - loss: 0.2415 - accuracy: 0.9347\n",
      "Epoch 84/200\n",
      "7183/7183 [==============================] - 1s 88us/step - loss: 0.2415 - accuracy: 0.9347\n",
      "Epoch 85/200\n",
      "7183/7183 [==============================] - 1s 86us/step - loss: 0.2416 - accuracy: 0.9347\n",
      "Epoch 86/200\n",
      "7183/7183 [==============================] - 1s 86us/step - loss: 0.2413 - accuracy: 0.9347\n",
      "Epoch 87/200\n",
      "7183/7183 [==============================] - 1s 87us/step - loss: 0.2415 - accuracy: 0.9347\n",
      "Epoch 88/200\n",
      "7183/7183 [==============================] - 1s 87us/step - loss: 0.2414 - accuracy: 0.9347\n",
      "Epoch 89/200\n",
      "7183/7183 [==============================] - 1s 86us/step - loss: 0.2415 - accuracy: 0.9347\n",
      "Epoch 90/200\n",
      "7183/7183 [==============================] - 1s 90us/step - loss: 0.2415 - accuracy: 0.9347\n",
      "Epoch 91/200\n",
      "7183/7183 [==============================] - 1s 91us/step - loss: 0.2415 - accuracy: 0.9347\n",
      "Epoch 92/200\n",
      "7183/7183 [==============================] - 1s 96us/step - loss: 0.2415 - accuracy: 0.9347\n",
      "Epoch 93/200\n",
      "7183/7183 [==============================] - 1s 93us/step - loss: 0.2415 - accuracy: 0.9347\n",
      "Epoch 94/200\n",
      "7183/7183 [==============================] - 1s 89us/step - loss: 0.2415 - accuracy: 0.9347\n",
      "Epoch 95/200\n",
      "7183/7183 [==============================] - 1s 89us/step - loss: 0.2416 - accuracy: 0.9347\n",
      "Epoch 96/200\n",
      "7183/7183 [==============================] - 1s 87us/step - loss: 0.2415 - accuracy: 0.9347\n",
      "Epoch 97/200\n",
      "7183/7183 [==============================] - 1s 86us/step - loss: 0.2415 - accuracy: 0.9347\n",
      "Epoch 98/200\n",
      "7183/7183 [==============================] - 1s 84us/step - loss: 0.2412 - accuracy: 0.9347\n",
      "Epoch 99/200\n",
      "7183/7183 [==============================] - 1s 86us/step - loss: 0.2415 - accuracy: 0.9347\n",
      "Epoch 100/200\n",
      "7183/7183 [==============================] - 1s 86us/step - loss: 0.2415 - accuracy: 0.9347\n",
      "Epoch 101/200\n",
      "7183/7183 [==============================] - 1s 85us/step - loss: 0.2413 - accuracy: 0.9347\n",
      "Epoch 102/200\n",
      "7183/7183 [==============================] - 1s 88us/step - loss: 0.2416 - accuracy: 0.9347\n",
      "Epoch 103/200\n",
      "7183/7183 [==============================] - 1s 86us/step - loss: 0.2415 - accuracy: 0.9347\n",
      "Epoch 104/200\n",
      "7183/7183 [==============================] - 1s 86us/step - loss: 0.2415 - accuracy: 0.9347\n",
      "Epoch 105/200\n",
      "7183/7183 [==============================] - 1s 88us/step - loss: 0.2415 - accuracy: 0.9347\n",
      "Epoch 106/200\n",
      "7183/7183 [==============================] - 1s 87us/step - loss: 0.2414 - accuracy: 0.9347\n",
      "Epoch 107/200\n",
      "7183/7183 [==============================] - 1s 89us/step - loss: 0.2413 - accuracy: 0.9347\n",
      "Epoch 108/200\n",
      "7183/7183 [==============================] - 1s 91us/step - loss: 0.2415 - accuracy: 0.9347\n",
      "Epoch 109/200\n",
      "7183/7183 [==============================] - 1s 88us/step - loss: 0.2415 - accuracy: 0.9347\n",
      "Epoch 110/200\n",
      "7183/7183 [==============================] - 1s 86us/step - loss: 0.2415 - accuracy: 0.9347\n",
      "Epoch 111/200\n",
      "7183/7183 [==============================] - 1s 87us/step - loss: 0.2415 - accuracy: 0.9347\n",
      "Epoch 112/200\n",
      "7183/7183 [==============================] - 1s 85us/step - loss: 0.2415 - accuracy: 0.9347\n",
      "Epoch 113/200\n",
      "7183/7183 [==============================] - 1s 85us/step - loss: 0.2415 - accuracy: 0.9347\n",
      "Epoch 114/200\n",
      "7183/7183 [==============================] - 1s 87us/step - loss: 0.2415 - accuracy: 0.9347\n",
      "Epoch 115/200\n",
      "7183/7183 [==============================] - 1s 86us/step - loss: 0.2414 - accuracy: 0.9347\n",
      "Epoch 116/200\n",
      "7183/7183 [==============================] - 1s 84us/step - loss: 0.2416 - accuracy: 0.9347\n",
      "Epoch 117/200\n",
      "7183/7183 [==============================] - 1s 87us/step - loss: 0.2415 - accuracy: 0.9347\n",
      "Epoch 118/200\n",
      "7183/7183 [==============================] - 1s 85us/step - loss: 0.2413 - accuracy: 0.9347\n",
      "Epoch 119/200\n",
      "7183/7183 [==============================] - 1s 86us/step - loss: 0.2415 - accuracy: 0.9347\n",
      "Epoch 120/200\n",
      "7183/7183 [==============================] - 1s 87us/step - loss: 0.2415 - accuracy: 0.9347\n",
      "Epoch 121/200\n",
      "7183/7183 [==============================] - 1s 86us/step - loss: 0.2415 - accuracy: 0.9347\n",
      "Epoch 122/200\n",
      "7183/7183 [==============================] - 1s 88us/step - loss: 0.2415 - accuracy: 0.9347\n",
      "Epoch 123/200\n",
      "7183/7183 [==============================] - 1s 93us/step - loss: 0.2413 - accuracy: 0.9347\n",
      "Epoch 124/200\n",
      "7183/7183 [==============================] - 1s 86us/step - loss: 0.2415 - accuracy: 0.9347\n",
      "Epoch 125/200\n",
      "7183/7183 [==============================] - 1s 86us/step - loss: 0.2414 - accuracy: 0.9347\n",
      "Epoch 126/200\n",
      "7183/7183 [==============================] - 1s 87us/step - loss: 0.2415 - accuracy: 0.9347\n",
      "Epoch 127/200\n",
      "7183/7183 [==============================] - 1s 84us/step - loss: 0.2415 - accuracy: 0.9347\n",
      "Epoch 128/200\n",
      "7183/7183 [==============================] - 1s 87us/step - loss: 0.2415 - accuracy: 0.9347\n",
      "Epoch 129/200\n",
      "7183/7183 [==============================] - 1s 88us/step - loss: 0.2415 - accuracy: 0.9347\n",
      "Epoch 130/200\n",
      "7183/7183 [==============================] - 1s 86us/step - loss: 0.2415 - accuracy: 0.9347\n",
      "Epoch 131/200\n",
      "7183/7183 [==============================] - 1s 91us/step - loss: 0.2415 - accuracy: 0.9347\n",
      "Epoch 132/200\n",
      "7183/7183 [==============================] - 1s 93us/step - loss: 0.2413 - accuracy: 0.9347\n",
      "Epoch 133/200\n",
      "7183/7183 [==============================] - 1s 92us/step - loss: 0.2415 - accuracy: 0.9347\n",
      "Epoch 134/200\n",
      "7183/7183 [==============================] - 1s 87us/step - loss: 0.2415 - accuracy: 0.9347\n",
      "Epoch 135/200\n",
      "7183/7183 [==============================] - 1s 84us/step - loss: 0.2414 - accuracy: 0.9347\n",
      "Epoch 136/200\n",
      "7183/7183 [==============================] - 1s 85us/step - loss: 0.2415 - accuracy: 0.9347\n",
      "Epoch 137/200\n",
      "7183/7183 [==============================] - 1s 87us/step - loss: 0.2414 - accuracy: 0.9347\n",
      "Epoch 138/200\n",
      "7183/7183 [==============================] - 1s 86us/step - loss: 0.2415 - accuracy: 0.9347\n",
      "Epoch 139/200\n",
      "7183/7183 [==============================] - 1s 87us/step - loss: 0.2414 - accuracy: 0.9347\n",
      "Epoch 140/200\n",
      "7183/7183 [==============================] - 1s 89us/step - loss: 0.2414 - accuracy: 0.9347\n",
      "Epoch 141/200\n",
      "7183/7183 [==============================] - 1s 90us/step - loss: 0.2416 - accuracy: 0.9347\n",
      "Epoch 142/200\n",
      "7183/7183 [==============================] - 1s 90us/step - loss: 0.2415 - accuracy: 0.9347\n",
      "Epoch 143/200\n",
      "7183/7183 [==============================] - 1s 86us/step - loss: 0.2415 - accuracy: 0.9347\n",
      "Epoch 144/200\n",
      "7183/7183 [==============================] - 1s 86us/step - loss: 0.2413 - accuracy: 0.9347\n",
      "Epoch 145/200\n",
      "7183/7183 [==============================] - 1s 85us/step - loss: 0.2415 - accuracy: 0.9347\n",
      "Epoch 146/200\n",
      "7183/7183 [==============================] - 1s 87us/step - loss: 0.2416 - accuracy: 0.9347\n",
      "Epoch 147/200\n",
      "7183/7183 [==============================] - 1s 88us/step - loss: 0.2415 - accuracy: 0.9347\n",
      "Epoch 148/200\n",
      "7183/7183 [==============================] - 1s 86us/step - loss: 0.2414 - accuracy: 0.9347\n",
      "Epoch 149/200\n",
      "7183/7183 [==============================] - 1s 87us/step - loss: 0.2414 - accuracy: 0.9347\n",
      "Epoch 150/200\n",
      "7183/7183 [==============================] - 1s 86us/step - loss: 0.2415 - accuracy: 0.9347\n",
      "Epoch 151/200\n",
      "7183/7183 [==============================] - 1s 87us/step - loss: 0.2414 - accuracy: 0.9347\n",
      "Epoch 152/200\n",
      "7183/7183 [==============================] - 1s 85us/step - loss: 0.2415 - accuracy: 0.9347\n",
      "Epoch 153/200\n",
      "7183/7183 [==============================] - 1s 86us/step - loss: 0.2415 - accuracy: 0.9347\n",
      "Epoch 154/200\n",
      "7183/7183 [==============================] - 1s 99us/step - loss: 0.2414 - accuracy: 0.9347\n",
      "Epoch 155/200\n",
      "7183/7183 [==============================] - 1s 103us/step - loss: 0.2415 - accuracy: 0.9347\n",
      "Epoch 156/200\n",
      "7183/7183 [==============================] - 1s 96us/step - loss: 0.2415 - accuracy: 0.9347\n",
      "Epoch 157/200\n",
      "7183/7183 [==============================] - 1s 87us/step - loss: 0.2414 - accuracy: 0.9347\n",
      "Epoch 158/200\n",
      "7183/7183 [==============================] - 1s 85us/step - loss: 0.2413 - accuracy: 0.9347\n",
      "Epoch 159/200\n",
      "7183/7183 [==============================] - 1s 88us/step - loss: 0.2415 - accuracy: 0.9347\n",
      "Epoch 160/200\n",
      "7183/7183 [==============================] - 1s 91us/step - loss: 0.2415 - accuracy: 0.9347\n",
      "Epoch 161/200\n",
      "7183/7183 [==============================] - 1s 91us/step - loss: 0.2414 - accuracy: 0.9347\n",
      "Epoch 162/200\n",
      "7183/7183 [==============================] - 1s 88us/step - loss: 0.2416 - accuracy: 0.9347\n",
      "Epoch 163/200\n",
      "7183/7183 [==============================] - 1s 88us/step - loss: 0.2415 - accuracy: 0.9347\n",
      "Epoch 164/200\n",
      "7183/7183 [==============================] - 1s 86us/step - loss: 0.2415 - accuracy: 0.9347\n",
      "Epoch 165/200\n",
      "7183/7183 [==============================] - 1s 83us/step - loss: 0.2415 - accuracy: 0.9347\n",
      "Epoch 166/200\n",
      "7183/7183 [==============================] - 1s 86us/step - loss: 0.2414 - accuracy: 0.9347\n",
      "Epoch 167/200\n",
      "7183/7183 [==============================] - 1s 87us/step - loss: 0.2415 - accuracy: 0.9347\n",
      "Epoch 168/200\n",
      "7183/7183 [==============================] - 1s 88us/step - loss: 0.2412 - accuracy: 0.9347\n",
      "Epoch 169/200\n",
      "7183/7183 [==============================] - 1s 88us/step - loss: 0.2414 - accuracy: 0.9347\n",
      "Epoch 170/200\n",
      "7183/7183 [==============================] - 1s 92us/step - loss: 0.2415 - accuracy: 0.9347\n",
      "Epoch 171/200\n",
      "7183/7183 [==============================] - 1s 89us/step - loss: 0.2415 - accuracy: 0.9347\n",
      "Epoch 172/200\n",
      "7183/7183 [==============================] - 1s 89us/step - loss: 0.2415 - accuracy: 0.9347\n",
      "Epoch 173/200\n",
      "7183/7183 [==============================] - 1s 92us/step - loss: 0.2415 - accuracy: 0.9347\n",
      "Epoch 174/200\n",
      "7183/7183 [==============================] - 1s 91us/step - loss: 0.2414 - accuracy: 0.9347\n",
      "Epoch 175/200\n",
      "7183/7183 [==============================] - 1s 91us/step - loss: 0.2415 - accuracy: 0.9347\n",
      "Epoch 176/200\n",
      "7183/7183 [==============================] - 1s 90us/step - loss: 0.2415 - accuracy: 0.9347\n",
      "Epoch 177/200\n",
      "7183/7183 [==============================] - 1s 87us/step - loss: 0.2415 - accuracy: 0.9347\n",
      "Epoch 178/200\n",
      "7183/7183 [==============================] - 1s 86us/step - loss: 0.2415 - accuracy: 0.9347\n",
      "Epoch 179/200\n",
      "7183/7183 [==============================] - 1s 86us/step - loss: 0.2415 - accuracy: 0.9347\n",
      "Epoch 180/200\n",
      "7183/7183 [==============================] - 1s 87us/step - loss: 0.2414 - accuracy: 0.9347\n",
      "Epoch 181/200\n",
      "7183/7183 [==============================] - 1s 87us/step - loss: 0.2414 - accuracy: 0.9347\n",
      "Epoch 182/200\n",
      "7183/7183 [==============================] - 1s 86us/step - loss: 0.2414 - accuracy: 0.9347\n",
      "Epoch 183/200\n",
      "7183/7183 [==============================] - 1s 87us/step - loss: 0.2415 - accuracy: 0.9347\n",
      "Epoch 184/200\n",
      "7183/7183 [==============================] - 1s 86us/step - loss: 0.2415 - accuracy: 0.9347\n",
      "Epoch 185/200\n",
      "7183/7183 [==============================] - 1s 86us/step - loss: 0.2415 - accuracy: 0.9347\n",
      "Epoch 186/200\n",
      "7183/7183 [==============================] - 1s 86us/step - loss: 0.2415 - accuracy: 0.9347\n",
      "Epoch 187/200\n",
      "7183/7183 [==============================] - 1s 85us/step - loss: 0.2413 - accuracy: 0.9347\n",
      "Epoch 188/200\n",
      "7183/7183 [==============================] - 1s 86us/step - loss: 0.2414 - accuracy: 0.9347\n",
      "Epoch 189/200\n",
      "7183/7183 [==============================] - 1s 87us/step - loss: 0.2415 - accuracy: 0.9347\n",
      "Epoch 190/200\n",
      "7183/7183 [==============================] - 1s 87us/step - loss: 0.2414 - accuracy: 0.9347\n",
      "Epoch 191/200\n",
      "7183/7183 [==============================] - 1s 85us/step - loss: 0.2415 - accuracy: 0.9347\n",
      "Epoch 192/200\n",
      "7183/7183 [==============================] - 1s 88us/step - loss: 0.2414 - accuracy: 0.9347\n",
      "Epoch 193/200\n",
      "7183/7183 [==============================] - 1s 86us/step - loss: 0.2415 - accuracy: 0.9347\n",
      "Epoch 194/200\n",
      "7183/7183 [==============================] - 1s 85us/step - loss: 0.2414 - accuracy: 0.9347\n",
      "Epoch 195/200\n",
      "7183/7183 [==============================] - 1s 87us/step - loss: 0.2414 - accuracy: 0.9347\n",
      "Epoch 196/200\n",
      "7183/7183 [==============================] - 1s 86us/step - loss: 0.2415 - accuracy: 0.9347\n",
      "Epoch 197/200\n",
      "7183/7183 [==============================] - 1s 87us/step - loss: 0.2415 - accuracy: 0.9347\n",
      "Epoch 198/200\n",
      "7183/7183 [==============================] - 1s 86us/step - loss: 0.2414 - accuracy: 0.9347\n",
      "Epoch 199/200\n",
      "7183/7183 [==============================] - 1s 86us/step - loss: 0.2414 - accuracy: 0.9347\n",
      "Epoch 200/200\n",
      "7183/7183 [==============================] - 1s 88us/step - loss: 0.2414 - accuracy: 0.9347\n",
      "2395/2395 [==============================] - 0s 18us/step\n",
      "\n",
      "accuracy: 93.67%\n"
     ]
    }
   ],
   "source": [
    "import keras\n",
    "from keras.models import Sequential\n",
    "from keras.layers import Dense\n",
    "\n",
    "np.random.seed(777)\n",
    "\n",
    "#keras Sequential model is being used here\n",
    "model = Sequential()\n",
    "\n",
    "# For 2D layers, such as Dense we specify input shape via the argument input_dim,\n",
    "# For 3D  layers we use the arguments input_dim and input_length\n",
    "# We are using relu function as activation function for our neural network\n",
    "model.add(Dense(12, input_dim=18, activation='relu'))\n",
    "model.add(Dense(18, activation='relu'))\n",
    "model.add(Dense(2, activation='sigmoid'))\n",
    "\n",
    "# Model Compilation\n",
    "model.compile(loss='binary_crossentropy', optimizer='adam', metrics=['accuracy'])\n",
    "\n",
    "# Fit the model\n",
    "# One Epoch is when an entire dataset is passed forward and backward through the neural network only once.\n",
    "# Total number of training examples present in a single batch.\n",
    "\n",
    "model.fit(x_train, y_train, epochs=200, batch_size=10)\n",
    "\n",
    "# Evaluation of model\n",
    "scores = model.evaluate(x_test, y_test)\n",
    "print(\"\\n%s: %.2f%%\" % (model.metrics_names[1], scores[1]*100))"
   ]
  },
  {
   "cell_type": "code",
   "execution_count": 37,
   "metadata": {},
   "outputs": [
    {
     "name": "stdout",
     "output_type": "stream",
     "text": [
      "2395/2395 [==============================] - 0s 11us/step\n",
      "\n",
      "accuracy: 93.67%\n"
     ]
    }
   ],
   "source": [
    "#model score\n",
    "predictions = model.predict(x_test)\n",
    "y_rounded = [round(x[0]) for x in predictions]\n",
    "scores_test = model.evaluate(x_test, y_test)\n",
    "print(\"\\n%s: %.2f%%\" % (model.metrics_names[1], scores_test[1]*100))"
   ]
  },
  {
   "cell_type": "code",
   "execution_count": null,
   "metadata": {},
   "outputs": [],
   "source": []
  }
 ],
 "metadata": {
  "kernelspec": {
   "display_name": "Python 3",
   "language": "python",
   "name": "python3"
  },
  "language_info": {
   "codemirror_mode": {
    "name": "ipython",
    "version": 3
   },
   "file_extension": ".py",
   "mimetype": "text/x-python",
   "name": "python",
   "nbconvert_exporter": "python",
   "pygments_lexer": "ipython3",
   "version": "3.7.6"
  }
 },
 "nbformat": 4,
 "nbformat_minor": 4
}
